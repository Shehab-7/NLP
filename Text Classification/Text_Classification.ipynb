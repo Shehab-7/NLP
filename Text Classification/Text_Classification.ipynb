{
  "cells": [
    {
      "cell_type": "markdown",
      "metadata": {
        "id": "view-in-github",
        "colab_type": "text"
      },
      "source": [
        "<a href=\"https://colab.research.google.com/github/Shehab-7/NLP/blob/main/Text%20Classification/Text_Classification.ipynb\" target=\"_parent\"><img src=\"https://colab.research.google.com/assets/colab-badge.svg\" alt=\"Open In Colab\"/></a>"
      ]
    },
    {
      "cell_type": "markdown",
      "metadata": {
        "id": "7P-WG5epc47P"
      },
      "source": [
        "**Dataset**\n",
        "labeled datasset collected from twitter\n",
        "\n",
        "**Objective**\n",
        "classify tweets containing hate speech from other tweets.\n",
        "0 -> no hate speech\n",
        "1 -> contains hate speech\n",
        "\n"
      ]
    },
    {
      "cell_type": "markdown",
      "metadata": {
        "id": "mGVknMGtc47V"
      },
      "source": [
        "### Import Libraries"
      ]
    },
    {
      "cell_type": "code",
      "execution_count": 1,
      "metadata": {
        "id": "sqrJIsSAc47X"
      },
      "outputs": [],
      "source": [
        "import pandas as pd\n",
        "from sklearn.feature_extraction.text import CountVectorizer, TfidfVectorizer\n",
        "from collections import Counter\n",
        "import random\n",
        "from termcolor import colored\n",
        "import numpy as np\n",
        "from sklearn.metrics.pairwise import cosine_similarity, cosine_distances\n",
        "from sklearn.model_selection import train_test_split\n",
        "import re\n",
        "from sklearn.linear_model import LogisticRegression\n",
        "from sklearn.pipeline import make_pipeline\n",
        "from sklearn import metrics\n"
      ]
    },
    {
      "cell_type": "markdown",
      "metadata": {
        "id": "6z16Day4c47Y"
      },
      "source": [
        "### Load Dataset"
      ]
    },
    {
      "cell_type": "code",
      "execution_count": 2,
      "metadata": {
        "id": "b911OZdIc47Z"
      },
      "outputs": [],
      "source": [
        "data = pd.read_csv('/content/dataset.csv')"
      ]
    },
    {
      "cell_type": "markdown",
      "source": [
        ""
      ],
      "metadata": {
        "id": "LrD_E8mrfNGu"
      }
    },
    {
      "cell_type": "code",
      "execution_count": 3,
      "metadata": {
        "colab": {
          "base_uri": "https://localhost:8080/",
          "height": 206
        },
        "id": "VoRTU7hVc47Z",
        "outputId": "10aec4fe-f554-4543-e76c-c8f7762a35a1"
      },
      "outputs": [
        {
          "output_type": "execute_result",
          "data": {
            "text/plain": [
              "   id  label                                              tweet\n",
              "0   1      0   @user when a father is dysfunctional and is s...\n",
              "1   2      0  @user @user thanks for #lyft credit i can't us...\n",
              "2   3      0                                bihday your majesty\n",
              "3   4      0  #model   i love u take with u all the time in ...\n",
              "4   5      0             factsguide: society now    #motivation"
            ],
            "text/html": [
              "\n",
              "  <div id=\"df-a8138f47-59fd-47cd-9719-c8553baa3ed2\">\n",
              "    <div class=\"colab-df-container\">\n",
              "      <div>\n",
              "<style scoped>\n",
              "    .dataframe tbody tr th:only-of-type {\n",
              "        vertical-align: middle;\n",
              "    }\n",
              "\n",
              "    .dataframe tbody tr th {\n",
              "        vertical-align: top;\n",
              "    }\n",
              "\n",
              "    .dataframe thead th {\n",
              "        text-align: right;\n",
              "    }\n",
              "</style>\n",
              "<table border=\"1\" class=\"dataframe\">\n",
              "  <thead>\n",
              "    <tr style=\"text-align: right;\">\n",
              "      <th></th>\n",
              "      <th>id</th>\n",
              "      <th>label</th>\n",
              "      <th>tweet</th>\n",
              "    </tr>\n",
              "  </thead>\n",
              "  <tbody>\n",
              "    <tr>\n",
              "      <th>0</th>\n",
              "      <td>1</td>\n",
              "      <td>0</td>\n",
              "      <td>@user when a father is dysfunctional and is s...</td>\n",
              "    </tr>\n",
              "    <tr>\n",
              "      <th>1</th>\n",
              "      <td>2</td>\n",
              "      <td>0</td>\n",
              "      <td>@user @user thanks for #lyft credit i can't us...</td>\n",
              "    </tr>\n",
              "    <tr>\n",
              "      <th>2</th>\n",
              "      <td>3</td>\n",
              "      <td>0</td>\n",
              "      <td>bihday your majesty</td>\n",
              "    </tr>\n",
              "    <tr>\n",
              "      <th>3</th>\n",
              "      <td>4</td>\n",
              "      <td>0</td>\n",
              "      <td>#model   i love u take with u all the time in ...</td>\n",
              "    </tr>\n",
              "    <tr>\n",
              "      <th>4</th>\n",
              "      <td>5</td>\n",
              "      <td>0</td>\n",
              "      <td>factsguide: society now    #motivation</td>\n",
              "    </tr>\n",
              "  </tbody>\n",
              "</table>\n",
              "</div>\n",
              "      <button class=\"colab-df-convert\" onclick=\"convertToInteractive('df-a8138f47-59fd-47cd-9719-c8553baa3ed2')\"\n",
              "              title=\"Convert this dataframe to an interactive table.\"\n",
              "              style=\"display:none;\">\n",
              "        \n",
              "  <svg xmlns=\"http://www.w3.org/2000/svg\" height=\"24px\"viewBox=\"0 0 24 24\"\n",
              "       width=\"24px\">\n",
              "    <path d=\"M0 0h24v24H0V0z\" fill=\"none\"/>\n",
              "    <path d=\"M18.56 5.44l.94 2.06.94-2.06 2.06-.94-2.06-.94-.94-2.06-.94 2.06-2.06.94zm-11 1L8.5 8.5l.94-2.06 2.06-.94-2.06-.94L8.5 2.5l-.94 2.06-2.06.94zm10 10l.94 2.06.94-2.06 2.06-.94-2.06-.94-.94-2.06-.94 2.06-2.06.94z\"/><path d=\"M17.41 7.96l-1.37-1.37c-.4-.4-.92-.59-1.43-.59-.52 0-1.04.2-1.43.59L10.3 9.45l-7.72 7.72c-.78.78-.78 2.05 0 2.83L4 21.41c.39.39.9.59 1.41.59.51 0 1.02-.2 1.41-.59l7.78-7.78 2.81-2.81c.8-.78.8-2.07 0-2.86zM5.41 20L4 18.59l7.72-7.72 1.47 1.35L5.41 20z\"/>\n",
              "  </svg>\n",
              "      </button>\n",
              "      \n",
              "  <style>\n",
              "    .colab-df-container {\n",
              "      display:flex;\n",
              "      flex-wrap:wrap;\n",
              "      gap: 12px;\n",
              "    }\n",
              "\n",
              "    .colab-df-convert {\n",
              "      background-color: #E8F0FE;\n",
              "      border: none;\n",
              "      border-radius: 50%;\n",
              "      cursor: pointer;\n",
              "      display: none;\n",
              "      fill: #1967D2;\n",
              "      height: 32px;\n",
              "      padding: 0 0 0 0;\n",
              "      width: 32px;\n",
              "    }\n",
              "\n",
              "    .colab-df-convert:hover {\n",
              "      background-color: #E2EBFA;\n",
              "      box-shadow: 0px 1px 2px rgba(60, 64, 67, 0.3), 0px 1px 3px 1px rgba(60, 64, 67, 0.15);\n",
              "      fill: #174EA6;\n",
              "    }\n",
              "\n",
              "    [theme=dark] .colab-df-convert {\n",
              "      background-color: #3B4455;\n",
              "      fill: #D2E3FC;\n",
              "    }\n",
              "\n",
              "    [theme=dark] .colab-df-convert:hover {\n",
              "      background-color: #434B5C;\n",
              "      box-shadow: 0px 1px 3px 1px rgba(0, 0, 0, 0.15);\n",
              "      filter: drop-shadow(0px 1px 2px rgba(0, 0, 0, 0.3));\n",
              "      fill: #FFFFFF;\n",
              "    }\n",
              "  </style>\n",
              "\n",
              "      <script>\n",
              "        const buttonEl =\n",
              "          document.querySelector('#df-a8138f47-59fd-47cd-9719-c8553baa3ed2 button.colab-df-convert');\n",
              "        buttonEl.style.display =\n",
              "          google.colab.kernel.accessAllowed ? 'block' : 'none';\n",
              "\n",
              "        async function convertToInteractive(key) {\n",
              "          const element = document.querySelector('#df-a8138f47-59fd-47cd-9719-c8553baa3ed2');\n",
              "          const dataTable =\n",
              "            await google.colab.kernel.invokeFunction('convertToInteractive',\n",
              "                                                     [key], {});\n",
              "          if (!dataTable) return;\n",
              "\n",
              "          const docLinkHtml = 'Like what you see? Visit the ' +\n",
              "            '<a target=\"_blank\" href=https://colab.research.google.com/notebooks/data_table.ipynb>data table notebook</a>'\n",
              "            + ' to learn more about interactive tables.';\n",
              "          element.innerHTML = '';\n",
              "          dataTable['output_type'] = 'display_data';\n",
              "          await google.colab.output.renderOutput(dataTable, element);\n",
              "          const docLink = document.createElement('div');\n",
              "          docLink.innerHTML = docLinkHtml;\n",
              "          element.appendChild(docLink);\n",
              "        }\n",
              "      </script>\n",
              "    </div>\n",
              "  </div>\n",
              "  "
            ]
          },
          "metadata": {},
          "execution_count": 3
        }
      ],
      "source": [
        "data.head()"
      ]
    },
    {
      "cell_type": "markdown",
      "metadata": {
        "id": "3nXc2pDNc47a"
      },
      "source": [
        "### EDA"
      ]
    },
    {
      "cell_type": "markdown",
      "metadata": {
        "id": "XK76RLzrc47a"
      },
      "source": [
        "- check NaNs"
      ]
    },
    {
      "cell_type": "code",
      "execution_count": 4,
      "metadata": {
        "colab": {
          "base_uri": "https://localhost:8080/"
        },
        "id": "XRN8pdYOc47b",
        "outputId": "9315bd43-155c-4c1b-ee8d-2a7ed9d7bb67"
      },
      "outputs": [
        {
          "output_type": "execute_result",
          "data": {
            "text/plain": [
              "id       False\n",
              "label    False\n",
              "tweet    False\n",
              "dtype: bool"
            ]
          },
          "metadata": {},
          "execution_count": 4
        }
      ],
      "source": [
        "data.isnull().any()\n"
      ]
    },
    {
      "cell_type": "markdown",
      "metadata": {
        "id": "8bXAERSkc47c"
      },
      "source": [
        "- check duplicates"
      ]
    },
    {
      "cell_type": "code",
      "source": [
        "data.drop(\"id\",axis=1,inplace=True)"
      ],
      "metadata": {
        "id": "WdyqpZ8hoz34"
      },
      "execution_count": 5,
      "outputs": []
    },
    {
      "cell_type": "code",
      "execution_count": 6,
      "metadata": {
        "colab": {
          "base_uri": "https://localhost:8080/"
        },
        "id": "PkSS9q-Rc47c",
        "outputId": "890e3d65-d2a3-49f6-d618-c4cbbd41cb75"
      },
      "outputs": [
        {
          "output_type": "execute_result",
          "data": {
            "text/plain": [
              "2432"
            ]
          },
          "metadata": {},
          "execution_count": 6
        }
      ],
      "source": [
        "data.duplicated().sum()"
      ]
    },
    {
      "cell_type": "markdown",
      "metadata": {
        "id": "Fpid0FwPc47d"
      },
      "source": [
        "- show samples of data texts to find out required preprocessing steps"
      ]
    },
    {
      "cell_type": "code",
      "execution_count": 7,
      "metadata": {
        "colab": {
          "base_uri": "https://localhost:8080/"
        },
        "id": "UkF0sTmbc47d",
        "outputId": "0ec69dd6-4076-4938-bf48-fa36a46be508"
      },
      "outputs": [
        {
          "output_type": "execute_result",
          "data": {
            "text/plain": [
              "0      @user when a father is dysfunctional and is s...\n",
              "1     @user @user thanks for #lyft credit i can't us...\n",
              "2                                   bihday your majesty\n",
              "3     #model   i love u take with u all the time in ...\n",
              "4                factsguide: society now    #motivation\n",
              "5     [2/2] huge fan fare and big talking before the...\n",
              "6      @user camping tomorrow @user @user @user @use...\n",
              "7     the next school year is the year for exams.ð...\n",
              "8     we won!!! love the land!!! #allin #cavs #champ...\n",
              "9      @user @user welcome here !  i'm   it's so #gr...\n",
              "10     â #ireland consumer price index (mom) climb...\n",
              "11    we are so selfish. #orlando #standwithorlando ...\n",
              "12    i get to see my daddy today!!   #80days #getti...\n",
              "13    @user #cnn calls #michigan middle school 'buil...\n",
              "14    no comment!  in #australia   #opkillingbay #se...\n",
              "15    ouch...junior is angryð#got7 #junior #yugyo...\n",
              "16    i am thankful for having a paner. #thankful #p...\n",
              "17                               retweet if you agree! \n",
              "18    its #friday! ð smiles all around via ig use...\n",
              "19    as we all know, essential oils are not made of...\n",
              "20    #euro2016 people blaming ha for conceded goal ...\n",
              "21    sad little dude..   #badday #coneofshame #cats...\n",
              "22    product of the day: happy man #wine tool  who'...\n",
              "23      @user @user lumpy says i am a . prove it lumpy.\n",
              "24     @user #tgif   #ff to my #gamedev #indiedev #i...\n",
              "25    beautiful sign by vendor 80 for $45.00!! #upsi...\n",
              "26     @user all #smiles when #media is   !! ðð...\n",
              "27    we had a great panel on the mediatization of t...\n",
              "28          happy father's day @user ðððð  \n",
              "29    50 people went to nightclub to have a good nig...\n",
              "30    i have never had a chance to vote for a presid...\n",
              "31      #alohafriday #time does #not #exist #positiv...\n",
              "32     @user rip to the fellow nohern ireland fan wh...\n",
              "33    it was a hard monday due to cloudy weather. di...\n",
              "34    it's unbelievable that in the 21st century we'...\n",
              "35    #taylorswift1989   bull up: you will dominate ...\n",
              "36       morning~~ #travelingram #dalat   #ripinkylife \n",
              "37    @user once more only one word tells it all: #p...\n",
              "38    oh, #cedarpoint. waited 2 hours in the valravn...\n",
              "39    i am thankful for sunshine. #thankful #positiv...\n",
              "40    when you finally finish a book you've been wor...\n",
              "41    yup, being a knicks fan is hard, so its easier...\n",
              "42    there is life after social networking. embrace...\n",
              "43    my mom shares the same bihday as @user   bihda...\n",
              "44    lovely echeveria blooms#flowers #grow #gardeni...\n",
              "45      i am amazing. #i_am #positive #affirmation     \n",
              "46    #model   i love u take with u all the time in ...\n",
              "47       #whenever im   and #something goes #wrong  |  \n",
              "48                        feeling blue #illustration   \n",
              "49    the best pa about life is knowing who you are!...\n",
              "Name: tweet, dtype: object"
            ]
          },
          "metadata": {},
          "execution_count": 7
        }
      ],
      "source": [
        "data['tweet'].head(50)"
      ]
    },
    {
      "cell_type": "code",
      "source": [
        "data['tweet'].sample(50)"
      ],
      "metadata": {
        "colab": {
          "base_uri": "https://localhost:8080/"
        },
        "id": "1lADjPwEGuWl",
        "outputId": "3df05d31-6e0d-4d92-a02c-9bf2b7bfbe32"
      },
      "execution_count": 8,
      "outputs": [
        {
          "output_type": "execute_result",
          "data": {
            "text/plain": [
              "11661     â #usd/cad pushes higher to 1.2840, us data...\n",
              "19165    @user no joke! i'm tired of #celebrities actin...\n",
              "5148     if u truly want #happiness u must go where   p...\n",
              "25118    euphoria-hold_the_rush__eternal_heights-(ng039...\n",
              "17139    tag someone below #quotes #beautiful #beach #l...\n",
              "19281    when you catch the light just right. #rocknrol...\n",
              "30997    waking up in the morning has been so easy late...\n",
              "22018    i love kids but i choose to be childfree  #yes...\n",
              "20660     @user coffee, bacon butty, writing and catchi...\n",
              "23561                   unending   #hours in #montreal :  \n",
              "16438     â #nab may business survey: unwavering non-...\n",
              "23409    now playing  :  nils frahm - \" ambre\" on    #m...\n",
              "30632    @user @user mr. paris dinnard...is in denial.....\n",
              "24090      big things on the way!! stay tuned!   #bigplans\n",
              "21540    @user the feeling's not mutual, you , #ableism...\n",
              "30055    nice morning doing airsoftððð«   #exci...\n",
              "9153                 exactly but people don't get itð  \n",
              "27911    en route to birmingham with @user to take pa i...\n",
              "810      love this city, great day in #cleveland! #home...\n",
              "30939                                      you disgust me \n",
              "20059               let her keep you #full   #fed ð¯ð¯\n",
              "18723    i am thankful for warm running water. #thankfu...\n",
              "15848                                 have a   #friday :) \n",
              "2314     i am reassuring. #i_am #positive #affirmation ...\n",
              "4293     bye bye #hec! it was a pleasure! #hecgrad16 #g...\n",
              "20578                         @user @user i've seen too.  \n",
              "23344    @user @user this is some serious bs jemele!! w...\n",
              "30585           food with friends. #food #life   #friends \n",
              "6657     astounded with #catfish. no one knows who they...\n",
              "31523        #life #love be   #enjoy #appreciate #des'tee \n",
              "16902    #thesis and #gradphotoshoot. above all, #sabla...\n",
              "2399      ep 28 we discuss #thatguy #groupoffriends #dr...\n",
              "31847    one year ð #june #summer #hot #hair #follow...\n",
              "23928    ever feel so many emotions all at once you don...\n",
              "16866    is   #blessed - it's a sunny south florida get...\n",
              "13950    leaving day at ih belfast!    #ihbelfast #stud...\n",
              "20887    #sikh #temple vandalised in in #calgary, #wso ...\n",
              "21217             chick gets fucked c thomas howell naked \n",
              "14041     @user one day to go.. #bernie#june17threlease...\n",
              "11158     @user get  , #illinois. our state leadership ...\n",
              "13110     @user we've had lots asking what @user have i...\n",
              "23102    #netflix has some good movies #summer #candles...\n",
              "14734    so glad to finally be over this stupid sore th...\n",
              "18900     @user jetski fun in bora bora!!  bora bora ha...\n",
              "11128    she wasn't ready to die. too young. a young ag...\n",
              "20223    post gym â¢ ðªð¼ #selfie #me   #love #gym...\n",
              "22499    question is am i more upset about not being ab...\n",
              "13636    i am thankful for grandparents. #thankful #pos...\n",
              "28693    i am legendary. #i_am #positive #affirmation     \n",
              "22526    time to answer!!! #sta #new #me #dreams   #hop...\n",
              "Name: tweet, dtype: object"
            ]
          },
          "metadata": {},
          "execution_count": 8
        }
      ]
    },
    {
      "cell_type": "markdown",
      "metadata": {
        "id": "TlAbBLCfc47d"
      },
      "source": [
        "- check dataset balancing"
      ]
    },
    {
      "cell_type": "code",
      "execution_count": 9,
      "metadata": {
        "colab": {
          "base_uri": "https://localhost:8080/"
        },
        "id": "yv7turoGc47e",
        "outputId": "2be71077-9816-434f-f026-2d4408a497ab"
      },
      "outputs": [
        {
          "output_type": "execute_result",
          "data": {
            "text/plain": [
              "0    29720\n",
              "1     2242\n",
              "Name: label, dtype: int64"
            ]
          },
          "metadata": {},
          "execution_count": 9
        }
      ],
      "source": [
        "data['label'].value_counts()"
      ]
    },
    {
      "cell_type": "markdown",
      "metadata": {
        "id": "a3iRnDOic47e"
      },
      "source": [
        "- Cleaning and Preprocessing are:\n",
        "    - 1- Drop emojis\n",
        "    - 2- Drop @user\n",
        "    - 3- Drop Hashtags\n",
        "    - 4- Drop Duplicates\n",
        "    - 5- Drop Punctuations"
      ]
    },
    {
      "cell_type": "markdown",
      "metadata": {
        "id": "CQwOyn8-c47f"
      },
      "source": [
        "### Cleaning and Preprocessing"
      ]
    },
    {
      "cell_type": "code",
      "execution_count": 10,
      "metadata": {
        "id": "oOz3ncO4c47f"
      },
      "outputs": [],
      "source": [
        "def remove_emoji(string):\n",
        "    emoji_pattern = re.compile(\"[\"\n",
        "        u\"\\U0001F600-\\U0001F64F\"  # emoticons\n",
        "        u\"\\U0001F300-\\U0001F5FF\"  # symbols & pictographs\n",
        "        u\"\\U0001F680-\\U0001F6FF\"  # transport & map symbols\n",
        "        u\"\\U0001F1E0-\\U0001F1FF\"  # flags (iOS)\n",
        "        u\"\\U00002500-\\U00002BEF\"  # chinese char\n",
        "        u\"\\U00002702-\\U000027B0\"\n",
        "        u\"\\U00002702-\\U000027B0\"\n",
        "        u\"\\U000024C2-\\U0001F251\"\n",
        "        u\"\\U0001f926-\\U0001f937\"\n",
        "        u\"\\U00010000-\\U0010ffff\"\n",
        "        u\"\\u2640-\\u2642\" \n",
        "        u\"\\u2600-\\u2B55\"\n",
        "        u\"\\u200d\"\n",
        "        u\"\\u23cf\"\n",
        "        u\"\\u23e9\"\n",
        "        u\"\\u231a\"\n",
        "        u\"\\ufe0f\"  # dingbats\n",
        "        u\"\\u3030\"\n",
        "                      \"]+\", re.UNICODE)\n",
        "    return emoji_pattern.sub(r'', string)\n",
        "\n",
        "  #There's also emoji library"
      ]
    },
    {
      "cell_type": "code",
      "execution_count": 11,
      "metadata": {
        "id": "oSMDJmQSc47g"
      },
      "outputs": [],
      "source": [
        "data['tweet'] = data['tweet'].apply(lambda x: remove_emoji(x))"
      ]
    },
    {
      "cell_type": "code",
      "source": [
        "def remove_hashtag(string):\n",
        "    return re.sub(r\"# \",\"\",string)\n",
        "    "
      ],
      "metadata": {
        "id": "3YXTpKmyjWCJ"
      },
      "execution_count": 12,
      "outputs": []
    },
    {
      "cell_type": "code",
      "source": [
        "data['tweet'] = data['tweet'].apply(lambda x: remove_hashtag(x))"
      ],
      "metadata": {
        "id": "EtLUxWEMjWQY"
      },
      "execution_count": 13,
      "outputs": []
    },
    {
      "cell_type": "code",
      "source": [
        "data['tweet'].head(50)"
      ],
      "metadata": {
        "id": "FcjC-iS0khTk",
        "colab": {
          "base_uri": "https://localhost:8080/"
        },
        "outputId": "a8852344-0bc6-47e5-adb0-bef0f14e8193"
      },
      "execution_count": 14,
      "outputs": [
        {
          "output_type": "execute_result",
          "data": {
            "text/plain": [
              "0      @user when a father is dysfunctional and is s...\n",
              "1     @user @user thanks for #lyft credit i can't us...\n",
              "2                                   bihday your majesty\n",
              "3     #model   i love u take with u all the time in ...\n",
              "4                factsguide: society now    #motivation\n",
              "5     [2/2] huge fan fare and big talking before the...\n",
              "6      @user camping tomorrow @user @user @user @use...\n",
              "7     the next school year is the year for exams.ð...\n",
              "8     we won!!! love the land!!! #allin #cavs #champ...\n",
              "9      @user @user welcome here !  i'm   it's so #gr...\n",
              "10     â #ireland consumer price index (mom) climb...\n",
              "11    we are so selfish. #orlando #standwithorlando ...\n",
              "12    i get to see my daddy today!!   #80days #getti...\n",
              "13    @user #cnn calls #michigan middle school 'buil...\n",
              "14    no comment!  in #australia   #opkillingbay #se...\n",
              "15    ouch...junior is angryð#got7 #junior #yugyo...\n",
              "16    i am thankful for having a paner. #thankful #p...\n",
              "17                               retweet if you agree! \n",
              "18    its #friday! ð smiles all around via ig use...\n",
              "19    as we all know, essential oils are not made of...\n",
              "20    #euro2016 people blaming ha for conceded goal ...\n",
              "21    sad little dude..   #badday #coneofshame #cats...\n",
              "22    product of the day: happy man #wine tool  who'...\n",
              "23      @user @user lumpy says i am a . prove it lumpy.\n",
              "24     @user #tgif   #ff to my #gamedev #indiedev #i...\n",
              "25    beautiful sign by vendor 80 for $45.00!! #upsi...\n",
              "26     @user all #smiles when #media is   !! ðð...\n",
              "27    we had a great panel on the mediatization of t...\n",
              "28          happy father's day @user ðððð  \n",
              "29    50 people went to nightclub to have a good nig...\n",
              "30    i have never had a chance to vote for a presid...\n",
              "31      #alohafriday #time does #not #exist #positiv...\n",
              "32     @user rip to the fellow nohern ireland fan wh...\n",
              "33    it was a hard monday due to cloudy weather. di...\n",
              "34    it's unbelievable that in the 21st century we'...\n",
              "35    #taylorswift1989   bull up: you will dominate ...\n",
              "36       morning~~ #travelingram #dalat   #ripinkylife \n",
              "37    @user once more only one word tells it all: #p...\n",
              "38    oh, #cedarpoint. waited 2 hours in the valravn...\n",
              "39    i am thankful for sunshine. #thankful #positiv...\n",
              "40    when you finally finish a book you've been wor...\n",
              "41    yup, being a knicks fan is hard, so its easier...\n",
              "42    there is life after social networking. embrace...\n",
              "43    my mom shares the same bihday as @user   bihda...\n",
              "44    lovely echeveria blooms#flowers #grow #gardeni...\n",
              "45      i am amazing. #i_am #positive #affirmation     \n",
              "46    #model   i love u take with u all the time in ...\n",
              "47       #whenever im   and #something goes #wrong  |  \n",
              "48                        feeling blue #illustration   \n",
              "49    the best pa about life is knowing who you are!...\n",
              "Name: tweet, dtype: object"
            ]
          },
          "metadata": {},
          "execution_count": 14
        }
      ]
    },
    {
      "cell_type": "code",
      "source": [
        "def drop_users(string):\n",
        "    return re.sub(r\"@\\S+\",\"\",string)"
      ],
      "metadata": {
        "id": "CHVSws0mkhhT"
      },
      "execution_count": 15,
      "outputs": []
    },
    {
      "cell_type": "code",
      "source": [
        "data['tweet'] = data['tweet'].apply(lambda x: drop_users(x))"
      ],
      "metadata": {
        "id": "9WiMXuk1bCBY"
      },
      "execution_count": 16,
      "outputs": []
    },
    {
      "cell_type": "code",
      "source": [
        "data['tweet'].head(50)"
      ],
      "metadata": {
        "colab": {
          "base_uri": "https://localhost:8080/"
        },
        "id": "I6J7nFcsbCWX",
        "outputId": "a858e465-780a-4cd7-80f9-a9ee2d472277"
      },
      "execution_count": 17,
      "outputs": [
        {
          "output_type": "execute_result",
          "data": {
            "text/plain": [
              "0       when a father is dysfunctional and is so sel...\n",
              "1       thanks for #lyft credit i can't use cause th...\n",
              "2                                   bihday your majesty\n",
              "3     #model   i love u take with u all the time in ...\n",
              "4                factsguide: society now    #motivation\n",
              "5     [2/2] huge fan fare and big talking before the...\n",
              "6                      camping tomorrow        dannyâ¦\n",
              "7     the next school year is the year for exams.ð...\n",
              "8     we won!!! love the land!!! #allin #cavs #champ...\n",
              "9                 welcome here !  i'm   it's so #gr8 ! \n",
              "10     â #ireland consumer price index (mom) climb...\n",
              "11    we are so selfish. #orlando #standwithorlando ...\n",
              "12    i get to see my daddy today!!   #80days #getti...\n",
              "13     #cnn calls #michigan middle school 'build the...\n",
              "14    no comment!  in #australia   #opkillingbay #se...\n",
              "15    ouch...junior is angryð#got7 #junior #yugyo...\n",
              "16    i am thankful for having a paner. #thankful #p...\n",
              "17                               retweet if you agree! \n",
              "18    its #friday! ð smiles all around via ig use...\n",
              "19    as we all know, essential oils are not made of...\n",
              "20    #euro2016 people blaming ha for conceded goal ...\n",
              "21    sad little dude..   #badday #coneofshame #cats...\n",
              "22    product of the day: happy man #wine tool  who'...\n",
              "23                  lumpy says i am a . prove it lumpy.\n",
              "24      #tgif   #ff to my #gamedev #indiedev #indieg...\n",
              "25    beautiful sign by vendor 80 for $45.00!! #upsi...\n",
              "26      all #smiles when #media is   !! ðð #pr...\n",
              "27    we had a great panel on the mediatization of t...\n",
              "28               happy father's day  ðððð  \n",
              "29    50 people went to nightclub to have a good nig...\n",
              "30    i have never had a chance to vote for a presid...\n",
              "31      #alohafriday #time does #not #exist #positiv...\n",
              "32      rip to the fellow nohern ireland fan who sad...\n",
              "33    it was a hard monday due to cloudy weather. di...\n",
              "34    it's unbelievable that in the 21st century we'...\n",
              "35    #taylorswift1989   bull up: you will dominate ...\n",
              "36       morning~~ #travelingram #dalat   #ripinkylife \n",
              "37     once more only one word tells it all: #photos...\n",
              "38    oh, #cedarpoint. waited 2 hours in the valravn...\n",
              "39    i am thankful for sunshine. #thankful #positiv...\n",
              "40    when you finally finish a book you've been wor...\n",
              "41    yup, being a knicks fan is hard, so its easier...\n",
              "42    there is life after social networking. embrace...\n",
              "43    my mom shares the same bihday as    bihday sna...\n",
              "44    lovely echeveria blooms#flowers #grow #gardeni...\n",
              "45      i am amazing. #i_am #positive #affirmation     \n",
              "46    #model   i love u take with u all the time in ...\n",
              "47       #whenever im   and #something goes #wrong  |  \n",
              "48                        feeling blue #illustration   \n",
              "49    the best pa about life is knowing who you are!...\n",
              "Name: tweet, dtype: object"
            ]
          },
          "metadata": {},
          "execution_count": 17
        }
      ]
    },
    {
      "cell_type": "code",
      "source": [
        ""
      ],
      "metadata": {
        "id": "SufKCCN5bCiG"
      },
      "execution_count": 17,
      "outputs": []
    },
    {
      "cell_type": "code",
      "source": [
        ""
      ],
      "metadata": {
        "id": "q24PGw50bCsc"
      },
      "execution_count": 17,
      "outputs": []
    },
    {
      "cell_type": "markdown",
      "metadata": {
        "id": "QMq_M7h6c47g"
      },
      "source": [
        "**If it takes 60 Mins till here, you are doing Great** <br>\n",
        "**If not! You also are doing Great**"
      ]
    },
    {
      "cell_type": "markdown",
      "metadata": {
        "id": "g5mG19vPc47h"
      },
      "source": [
        "### Modelling"
      ]
    },
    {
      "cell_type": "code",
      "execution_count": 18,
      "metadata": {
        "id": "e6R4S3ozc47h"
      },
      "outputs": [],
      "source": [
        "train,test = train_test_split(data,test_size=0.3)"
      ]
    },
    {
      "cell_type": "code",
      "execution_count": 19,
      "metadata": {
        "id": "WMhmJ8Hmc47i"
      },
      "outputs": [],
      "source": [
        "vec = CountVectorizer()\n",
        "clf = LogisticRegression()\n",
        "pipe = make_pipeline(vec, clf)\n",
        "pipe.fit(train.tweet, train.label);"
      ]
    },
    {
      "cell_type": "markdown",
      "metadata": {
        "id": "YeHtZUT7c47i"
      },
      "source": [
        "#### Evaluation"
      ]
    },
    {
      "cell_type": "code",
      "execution_count": 20,
      "metadata": {
        "id": "k-NeMFNyc47i",
        "colab": {
          "base_uri": "https://localhost:8080/"
        },
        "outputId": "a1ba1f6d-1f1e-4ddf-b046-e2992497c6a7"
      },
      "outputs": [
        {
          "output_type": "stream",
          "name": "stdout",
          "text": [
            "              precision    recall  f1-score   support\n",
            "\n",
            "           0       0.97      0.99      0.98      8962\n",
            "           1       0.86      0.53      0.66       627\n",
            "\n",
            "    accuracy                           0.96      9589\n",
            "   macro avg       0.92      0.76      0.82      9589\n",
            "weighted avg       0.96      0.96      0.96      9589\n",
            "\n",
            "accuracy: 0.964\n"
          ]
        }
      ],
      "source": [
        "def print_report(pipe, x_test, y_test):\n",
        "    y_pred = pipe.predict(x_test)\n",
        "    report = metrics.classification_report(y_test, y_pred)\n",
        "    print(report)\n",
        "    print(\"accuracy: {:0.3f}\".format(metrics.accuracy_score(y_test, y_pred)))\n",
        "\n",
        "print_report(pipe, test.tweet, test.label)"
      ]
    },
    {
      "cell_type": "markdown",
      "metadata": {
        "id": "BrHAY872c47j"
      },
      "source": [
        "### Enhancement\n",
        "\n",
        "- Using different N-grams\n",
        "- Using different text representation technique"
      ]
    },
    {
      "cell_type": "code",
      "execution_count": 21,
      "metadata": {
        "id": "a3ea08qgc47j"
      },
      "outputs": [],
      "source": [
        "vec_2 = CountVectorizer(ngram_range=(1, 3))\n",
        "clf_2 = LogisticRegression()\n",
        "pipe_2 = make_pipeline(vec_2, clf_2)\n",
        "pipe_2.fit(train.tweet, train.label);"
      ]
    },
    {
      "cell_type": "code",
      "execution_count": 22,
      "metadata": {
        "id": "o2tIDV6Uc47k",
        "colab": {
          "base_uri": "https://localhost:8080/"
        },
        "outputId": "0dbe69b5-100a-447d-c245-9b99bfddba1d"
      },
      "outputs": [
        {
          "output_type": "stream",
          "name": "stdout",
          "text": [
            "              precision    recall  f1-score   support\n",
            "\n",
            "           0       0.96      1.00      0.98      8962\n",
            "           1       0.91      0.48      0.62       627\n",
            "\n",
            "    accuracy                           0.96      9589\n",
            "   macro avg       0.94      0.74      0.80      9589\n",
            "weighted avg       0.96      0.96      0.96      9589\n",
            "\n",
            "accuracy: 0.963\n"
          ]
        }
      ],
      "source": [
        "print_report(pipe_2, test.tweet, test.label)"
      ]
    },
    {
      "cell_type": "code",
      "source": [
        "vec_3 = CountVectorizer(ngram_range=(1, 5))\n",
        "clf_3 = LogisticRegression()\n",
        "pipe_3 = make_pipeline(vec_3, clf_3)\n",
        "pipe_3.fit(train.tweet, train.label);"
      ],
      "metadata": {
        "id": "kEi3dVJmgr78"
      },
      "execution_count": 23,
      "outputs": []
    },
    {
      "cell_type": "code",
      "source": [
        "print_report(pipe_3, test.tweet, test.label)"
      ],
      "metadata": {
        "colab": {
          "base_uri": "https://localhost:8080/"
        },
        "id": "AF9rR_XdgsGa",
        "outputId": "7a43c228-a78b-41bc-8d1c-215cd133802a"
      },
      "execution_count": 24,
      "outputs": [
        {
          "output_type": "stream",
          "name": "stdout",
          "text": [
            "              precision    recall  f1-score   support\n",
            "\n",
            "           0       0.96      1.00      0.98      8962\n",
            "           1       0.92      0.45      0.60       627\n",
            "\n",
            "    accuracy                           0.96      9589\n",
            "   macro avg       0.94      0.72      0.79      9589\n",
            "weighted avg       0.96      0.96      0.95      9589\n",
            "\n",
            "accuracy: 0.961\n"
          ]
        }
      ]
    },
    {
      "cell_type": "code",
      "source": [
        "vec_4 = TfidfVectorizer(analyzer='char_wb', ngram_range=(3, 5), min_df=.01, max_df=.3)\n",
        "clf_4 = LogisticRegression()\n",
        "pipe_4 = make_pipeline(vec_4, clf_4)\n",
        "pipe_4.fit(train.tweet, train.label);"
      ],
      "metadata": {
        "id": "ADJ5MrK8gsOZ"
      },
      "execution_count": 25,
      "outputs": []
    },
    {
      "cell_type": "code",
      "source": [
        "print_report(pipe_4, test.tweet, test.label)"
      ],
      "metadata": {
        "colab": {
          "base_uri": "https://localhost:8080/"
        },
        "id": "LaaH8QCAhHZs",
        "outputId": "59a74c22-8f90-4be7-da63-8cffec6499ad"
      },
      "execution_count": 26,
      "outputs": [
        {
          "output_type": "stream",
          "name": "stdout",
          "text": [
            "              precision    recall  f1-score   support\n",
            "\n",
            "           0       0.96      1.00      0.98      8962\n",
            "           1       0.86      0.40      0.54       627\n",
            "\n",
            "    accuracy                           0.96      9589\n",
            "   macro avg       0.91      0.70      0.76      9589\n",
            "weighted avg       0.95      0.96      0.95      9589\n",
            "\n",
            "accuracy: 0.956\n"
          ]
        }
      ]
    },
    {
      "cell_type": "code",
      "source": [
        "print(data.tweet[10:15])\n",
        "print(pipe.predict(data.tweet[10:15]))"
      ],
      "metadata": {
        "colab": {
          "base_uri": "https://localhost:8080/"
        },
        "id": "XaG8PJijh0TB",
        "outputId": "1eea66db-aea7-48c3-813f-83ea49959151"
      },
      "execution_count": 27,
      "outputs": [
        {
          "output_type": "stream",
          "name": "stdout",
          "text": [
            "10     â #ireland consumer price index (mom) climb...\n",
            "11    we are so selfish. #orlando #standwithorlando ...\n",
            "12    i get to see my daddy today!!   #80days #getti...\n",
            "13     #cnn calls #michigan middle school 'build the...\n",
            "14    no comment!  in #australia   #opkillingbay #se...\n",
            "Name: tweet, dtype: object\n",
            "[0 0 0 1 1]\n"
          ]
        }
      ]
    },
    {
      "cell_type": "markdown",
      "metadata": {
        "id": "ivyAhHpXc47k"
      },
      "source": [
        "#### Done!"
      ]
    },
    {
      "cell_type": "code",
      "source": [
        ""
      ],
      "metadata": {
        "id": "rguK-fZxHN1z"
      },
      "execution_count": 27,
      "outputs": []
    },
    {
      "cell_type": "code",
      "source": [
        ""
      ],
      "metadata": {
        "id": "QsFsgcA4HyQd"
      },
      "execution_count": 27,
      "outputs": []
    }
  ],
  "metadata": {
    "kernelspec": {
      "display_name": "Python 3",
      "language": "python",
      "name": "python3"
    },
    "language_info": {
      "codemirror_mode": {
        "name": "ipython",
        "version": 3
      },
      "file_extension": ".py",
      "mimetype": "text/x-python",
      "name": "python",
      "nbconvert_exporter": "python",
      "pygments_lexer": "ipython3",
      "version": "3.8.5"
    },
    "colab": {
      "name": "Text Classification.ipynb",
      "provenance": [],
      "collapsed_sections": [],
      "include_colab_link": true
    }
  },
  "nbformat": 4,
  "nbformat_minor": 0
}